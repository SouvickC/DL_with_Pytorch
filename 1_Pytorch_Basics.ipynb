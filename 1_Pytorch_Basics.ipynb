{
 "cells": [
  {
   "cell_type": "code",
   "execution_count": 3,
   "id": "1eeb6ea1",
   "metadata": {},
   "outputs": [
    {
     "name": "stdout",
     "output_type": "stream",
     "text": [
      "2.6.0+cpu\n"
     ]
    }
   ],
   "source": [
    "import torch\n",
    "import pandas as pd\n",
    "import numpy as np\n",
    "import matplotlib.pyplot as plt\n",
    "\n",
    "print(torch.__version__)"
   ]
  },
  {
   "cell_type": "markdown",
   "id": "34323d89",
   "metadata": {},
   "source": [
    "### Basics"
   ]
  },
  {
   "cell_type": "code",
   "execution_count": 48,
   "id": "f0e02f53",
   "metadata": {},
   "outputs": [
    {
     "data": {
      "text/plain": [
       "tensor(7)"
      ]
     },
     "execution_count": 48,
     "metadata": {},
     "output_type": "execute_result"
    }
   ],
   "source": [
    "## introduction of Tensors\n",
    "## features \n",
    "\n",
    "## scaler == value\n",
    "scaler= torch.tensor(7)\n",
    "scaler\n"
   ]
  },
  {
   "cell_type": "code",
   "execution_count": null,
   "id": "cc801901",
   "metadata": {},
   "outputs": [
    {
     "data": {
      "text/plain": [
       "7"
      ]
     },
     "execution_count": 9,
     "metadata": {},
     "output_type": "execute_result"
    }
   ],
   "source": [
    "## dimension of the tensor\n",
    "print(scaler.ndim)\n",
    "\n",
    "## values of tensor\n",
    "scaler.item()\n",
    "\n"
   ]
  },
  {
   "cell_type": "code",
   "execution_count": null,
   "id": "3d86ddcb",
   "metadata": {},
   "outputs": [
    {
     "data": {
      "text/plain": [
       "tensor([7, 7])"
      ]
     },
     "execution_count": 10,
     "metadata": {},
     "output_type": "execute_result"
    }
   ],
   "source": [
    "## vector\n",
    "\n",
    "vector=torch.tensor([7.,7]) ## should be same data type or it will convert it\n",
    "vector"
   ]
  },
  {
   "cell_type": "code",
   "execution_count": 12,
   "id": "c39aa4ad",
   "metadata": {},
   "outputs": [
    {
     "data": {
      "text/plain": [
       "1"
      ]
     },
     "execution_count": 12,
     "metadata": {},
     "output_type": "execute_result"
    }
   ],
   "source": [
    "vector.ndim"
   ]
  },
  {
   "cell_type": "code",
   "execution_count": 49,
   "id": "6a01432c",
   "metadata": {},
   "outputs": [],
   "source": [
    "matrix=torch.tensor([[4,5],\n",
    "                     \n",
    "                     [44,55]])\n",
    "\n",
    "## 2D tensor here"
   ]
  },
  {
   "cell_type": "code",
   "execution_count": 16,
   "id": "386f6dfc",
   "metadata": {},
   "outputs": [
    {
     "data": {
      "text/plain": [
       "torch.Size([2, 2])"
      ]
     },
     "execution_count": 16,
     "metadata": {},
     "output_type": "execute_result"
    }
   ],
   "source": [
    "matrix.ndim\n",
    "matrix.shape"
   ]
  },
  {
   "cell_type": "code",
   "execution_count": 54,
   "id": "05aef937",
   "metadata": {},
   "outputs": [],
   "source": [
    "## Tensors\n",
    "## 3D tensor extra pair of bracket\n",
    "\n",
    "TENSOR=torch.tensor([[[4,5],\n",
    "                     [44,55],\n",
    "                     [33,44]]]) ## each row should have equal number of elements should be same"
   ]
  },
  {
   "cell_type": "code",
   "execution_count": 53,
   "id": "97fd89f6",
   "metadata": {},
   "outputs": [
    {
     "data": {
      "text/plain": [
       "tensor([[[ 4,  5],\n",
       "         [44, 55],\n",
       "         [33, 44]]])"
      ]
     },
     "execution_count": 53,
     "metadata": {},
     "output_type": "execute_result"
    }
   ],
   "source": [
    "TENSOR"
   ]
  },
  {
   "cell_type": "code",
   "execution_count": null,
   "id": "3980a621",
   "metadata": {},
   "outputs": [
    {
     "name": "stdout",
     "output_type": "stream",
     "text": [
      "torch.Size([1, 3, 2])\n",
      "3\n"
     ]
    }
   ],
   "source": [
    "print(TENSOR.shape)\n",
    "\n",
    "print(TENSOR.ndim) ## 1st -> 1 \"one block of code\" 3 rows and 2 column"
   ]
  },
  {
   "cell_type": "code",
   "execution_count": 55,
   "id": "d29cbbeb",
   "metadata": {},
   "outputs": [
    {
     "name": "stdout",
     "output_type": "stream",
     "text": [
      "tensor([[[ 4,  5],\n",
      "         [44, 55],\n",
      "         [33, 44]],\n",
      "\n",
      "        [[ 4,  5],\n",
      "         [44, 55],\n",
      "         [33, 44]]])\n",
      "torch.Size([2, 3, 2])\n",
      "3\n"
     ]
    }
   ],
   "source": [
    "TENSOR1=torch.tensor([\n",
    "                    [[4,5],\n",
    "                     [44,55],\n",
    "                     [33,44]],\n",
    "                     ## here another block of code so check this \n",
    "                     [[4,5],\n",
    "                     [44,55],\n",
    "                     [33,44]]\n",
    "                     ]\n",
    "                     )\n",
    "print(TENSOR1)\n",
    "print(TENSOR1.shape)\n",
    "print(TENSOR1.ndim)"
   ]
  },
  {
   "cell_type": "markdown",
   "id": "b5fb13a3",
   "metadata": {},
   "source": [
    "### Tensor Operations and gradients"
   ]
  },
  {
   "cell_type": "code",
   "execution_count": 76,
   "id": "60183949",
   "metadata": {},
   "outputs": [],
   "source": [
    "x=torch.tensor(3.)\n",
    "w=torch.tensor(4., requires_grad=True)\n",
    "b=torch.tensor(5., requires_grad=True)"
   ]
  },
  {
   "cell_type": "code",
   "execution_count": null,
   "id": "2e284ad3",
   "metadata": {},
   "outputs": [],
   "source": [
    "y=w*x+b\n",
    "y\n",
    "\n",
    "y.backward() ## necessary for gradient"
   ]
  },
  {
   "cell_type": "code",
   "execution_count": 78,
   "id": "8caa3441",
   "metadata": {},
   "outputs": [
    {
     "name": "stdout",
     "output_type": "stream",
     "text": [
      "dy/dx tensor(1.)\n"
     ]
    }
   ],
   "source": [
    "## derivative \n",
    "\n",
    "print('dy/dx', b.grad) "
   ]
  },
  {
   "cell_type": "code",
   "execution_count": 82,
   "id": "fdfce210",
   "metadata": {},
   "outputs": [
    {
     "name": "stdout",
     "output_type": "stream",
     "text": [
      "[[1 2]\n",
      " [3 4]]\n"
     ]
    },
    {
     "data": {
      "text/plain": [
       "(2, 2)"
      ]
     },
     "execution_count": 82,
     "metadata": {},
     "output_type": "execute_result"
    }
   ],
   "source": [
    "import numpy as np\n",
    "\n",
    "x=np.array([[1,2],[3,4]])\n",
    "print(x)\n",
    "x.shape"
   ]
  },
  {
   "cell_type": "code",
   "execution_count": 86,
   "id": "2e1ebcd5",
   "metadata": {},
   "outputs": [
    {
     "name": "stdout",
     "output_type": "stream",
     "text": [
      "tensor([[1, 2],\n",
      "        [3, 4]], dtype=torch.int32)\n",
      "int32 , torch.float32\n"
     ]
    }
   ],
   "source": [
    "xt=torch.from_numpy(x)\n",
    "print(xt)\n",
    "\n",
    "print(x.dtype,',',y.dtype)"
   ]
  },
  {
   "cell_type": "code",
   "execution_count": null,
   "id": "8348b2f9",
   "metadata": {},
   "outputs": [],
   "source": []
  },
  {
   "cell_type": "code",
   "execution_count": null,
   "id": "f3a692c2",
   "metadata": {},
   "outputs": [],
   "source": []
  },
  {
   "cell_type": "code",
   "execution_count": null,
   "id": "6eb8598e",
   "metadata": {},
   "outputs": [],
   "source": []
  },
  {
   "cell_type": "code",
   "execution_count": null,
   "id": "60d5a822",
   "metadata": {},
   "outputs": [],
   "source": []
  },
  {
   "cell_type": "code",
   "execution_count": null,
   "id": "532fac78",
   "metadata": {},
   "outputs": [],
   "source": []
  },
  {
   "cell_type": "code",
   "execution_count": null,
   "id": "d7b96d8b",
   "metadata": {},
   "outputs": [],
   "source": []
  },
  {
   "cell_type": "code",
   "execution_count": null,
   "id": "376ee6d3",
   "metadata": {},
   "outputs": [],
   "source": []
  },
  {
   "cell_type": "code",
   "execution_count": null,
   "id": "2efe2b28",
   "metadata": {},
   "outputs": [],
   "source": []
  },
  {
   "cell_type": "code",
   "execution_count": null,
   "id": "65c7da65",
   "metadata": {},
   "outputs": [],
   "source": []
  },
  {
   "cell_type": "code",
   "execution_count": null,
   "id": "7b32aeff",
   "metadata": {},
   "outputs": [],
   "source": []
  }
 ],
 "metadata": {
  "kernelspec": {
   "display_name": "Python 3",
   "language": "python",
   "name": "python3"
  },
  "language_info": {
   "codemirror_mode": {
    "name": "ipython",
    "version": 3
   },
   "file_extension": ".py",
   "mimetype": "text/x-python",
   "name": "python",
   "nbconvert_exporter": "python",
   "pygments_lexer": "ipython3",
   "version": "3.12.4"
  }
 },
 "nbformat": 4,
 "nbformat_minor": 5
}
